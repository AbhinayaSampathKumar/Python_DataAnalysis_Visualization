{
 "cells": [
  {
   "cell_type": "code",
   "execution_count": 29,
   "id": "6d3337be-1a3c-476d-b5fb-17b1e4ab469d",
   "metadata": {},
   "outputs": [],
   "source": [
    "import pandas as pd\n",
    "import matplotlib.pyplot as plt\n",
    "import seaborn as sns\n",
    "import numpy as np"
   ]
  },
  {
   "cell_type": "code",
   "execution_count": null,
   "id": "4e8f1511-36f2-4d70-9a22-7ecb48ac61a5",
   "metadata": {},
   "outputs": [],
   "source": [
    "# importing the dataset to python"
   ]
  },
  {
   "cell_type": "code",
   "execution_count": 3,
   "id": "7b3135bd-4d4e-43d1-9109-6b03efa7974f",
   "metadata": {},
   "outputs": [],
   "source": [
    "health =pd.read_csv(\"/Users/12035/Desktop/Abhi/Healthcare_dataset/healthcare_dataset.csv\" )"
   ]
  },
  {
   "cell_type": "code",
   "execution_count": 4,
   "id": "b53bef05-637b-4003-9537-cae55279c4a0",
   "metadata": {},
   "outputs": [
    {
     "name": "stdout",
     "output_type": "stream",
     "text": [
      "<class 'pandas.core.frame.DataFrame'>\n",
      "RangeIndex: 10000 entries, 0 to 9999\n",
      "Data columns (total 15 columns):\n",
      " #   Column              Non-Null Count  Dtype  \n",
      "---  ------              --------------  -----  \n",
      " 0   Name                10000 non-null  object \n",
      " 1   Age                 10000 non-null  int64  \n",
      " 2   Gender              10000 non-null  object \n",
      " 3   Blood Type          10000 non-null  object \n",
      " 4   Medical Condition   10000 non-null  object \n",
      " 5   Date of Admission   10000 non-null  object \n",
      " 6   Doctor              10000 non-null  object \n",
      " 7   Hospital            10000 non-null  object \n",
      " 8   Insurance Provider  10000 non-null  object \n",
      " 9   Billing Amount      10000 non-null  float64\n",
      " 10  Room Number         10000 non-null  int64  \n",
      " 11  Admission Type      10000 non-null  object \n",
      " 12  Discharge Date      10000 non-null  object \n",
      " 13  Medication          10000 non-null  object \n",
      " 14  Test Results        10000 non-null  object \n",
      "dtypes: float64(1), int64(2), object(12)\n",
      "memory usage: 1.1+ MB\n"
     ]
    }
   ],
   "source": [
    "health.info()"
   ]
  },
  {
   "cell_type": "code",
   "execution_count": 5,
   "id": "1c07c5fa-a853-481a-bd08-547e2faeba36",
   "metadata": {},
   "outputs": [
    {
     "data": {
      "text/plain": [
       "Name                  0\n",
       "Age                   0\n",
       "Gender                0\n",
       "Blood Type            0\n",
       "Medical Condition     0\n",
       "Date of Admission     0\n",
       "Doctor                0\n",
       "Hospital              0\n",
       "Insurance Provider    0\n",
       "Billing Amount        0\n",
       "Room Number           0\n",
       "Admission Type        0\n",
       "Discharge Date        0\n",
       "Medication            0\n",
       "Test Results          0\n",
       "dtype: int64"
      ]
     },
     "execution_count": 5,
     "metadata": {},
     "output_type": "execute_result"
    }
   ],
   "source": [
    "# To check null values.\n",
    "\n",
    "\n",
    "health.isnull().sum()"
   ]
  },
  {
   "cell_type": "code",
   "execution_count": 6,
   "id": "4903d97c-ba70-47d6-9875-e36f5e2410b6",
   "metadata": {},
   "outputs": [
    {
     "data": {
      "text/html": [
       "<div>\n",
       "<style scoped>\n",
       "    .dataframe tbody tr th:only-of-type {\n",
       "        vertical-align: middle;\n",
       "    }\n",
       "\n",
       "    .dataframe tbody tr th {\n",
       "        vertical-align: top;\n",
       "    }\n",
       "\n",
       "    .dataframe thead th {\n",
       "        text-align: right;\n",
       "    }\n",
       "</style>\n",
       "<table border=\"1\" class=\"dataframe\">\n",
       "  <thead>\n",
       "    <tr style=\"text-align: right;\">\n",
       "      <th></th>\n",
       "      <th>Age</th>\n",
       "      <th>Billing Amount</th>\n",
       "      <th>Room Number</th>\n",
       "    </tr>\n",
       "  </thead>\n",
       "  <tbody>\n",
       "    <tr>\n",
       "      <th>count</th>\n",
       "      <td>10000.000000</td>\n",
       "      <td>10000.000000</td>\n",
       "      <td>10000.000000</td>\n",
       "    </tr>\n",
       "    <tr>\n",
       "      <th>mean</th>\n",
       "      <td>51.452200</td>\n",
       "      <td>25516.806778</td>\n",
       "      <td>300.082000</td>\n",
       "    </tr>\n",
       "    <tr>\n",
       "      <th>std</th>\n",
       "      <td>19.588974</td>\n",
       "      <td>14067.292709</td>\n",
       "      <td>115.806027</td>\n",
       "    </tr>\n",
       "    <tr>\n",
       "      <th>min</th>\n",
       "      <td>18.000000</td>\n",
       "      <td>1000.180837</td>\n",
       "      <td>101.000000</td>\n",
       "    </tr>\n",
       "    <tr>\n",
       "      <th>25%</th>\n",
       "      <td>35.000000</td>\n",
       "      <td>13506.523967</td>\n",
       "      <td>199.000000</td>\n",
       "    </tr>\n",
       "    <tr>\n",
       "      <th>50%</th>\n",
       "      <td>52.000000</td>\n",
       "      <td>25258.112566</td>\n",
       "      <td>299.000000</td>\n",
       "    </tr>\n",
       "    <tr>\n",
       "      <th>75%</th>\n",
       "      <td>68.000000</td>\n",
       "      <td>37733.913727</td>\n",
       "      <td>400.000000</td>\n",
       "    </tr>\n",
       "    <tr>\n",
       "      <th>max</th>\n",
       "      <td>85.000000</td>\n",
       "      <td>49995.902283</td>\n",
       "      <td>500.000000</td>\n",
       "    </tr>\n",
       "  </tbody>\n",
       "</table>\n",
       "</div>"
      ],
      "text/plain": [
       "                Age  Billing Amount   Room Number\n",
       "count  10000.000000    10000.000000  10000.000000\n",
       "mean      51.452200    25516.806778    300.082000\n",
       "std       19.588974    14067.292709    115.806027\n",
       "min       18.000000     1000.180837    101.000000\n",
       "25%       35.000000    13506.523967    199.000000\n",
       "50%       52.000000    25258.112566    299.000000\n",
       "75%       68.000000    37733.913727    400.000000\n",
       "max       85.000000    49995.902283    500.000000"
      ]
     },
     "execution_count": 6,
     "metadata": {},
     "output_type": "execute_result"
    }
   ],
   "source": [
    "# Showing all the numeric variables\n",
    "\n",
    "\n",
    "health.describe()"
   ]
  },
  {
   "cell_type": "code",
   "execution_count": 7,
   "id": "de2db8f0-ab3d-4f48-8a41-80e14c4d7a2c",
   "metadata": {},
   "outputs": [
    {
     "data": {
      "text/html": [
       "<div>\n",
       "<style scoped>\n",
       "    .dataframe tbody tr th:only-of-type {\n",
       "        vertical-align: middle;\n",
       "    }\n",
       "\n",
       "    .dataframe tbody tr th {\n",
       "        vertical-align: top;\n",
       "    }\n",
       "\n",
       "    .dataframe thead th {\n",
       "        text-align: right;\n",
       "    }\n",
       "</style>\n",
       "<table border=\"1\" class=\"dataframe\">\n",
       "  <thead>\n",
       "    <tr style=\"text-align: right;\">\n",
       "      <th></th>\n",
       "      <th>Name</th>\n",
       "      <th>Age</th>\n",
       "      <th>Gender</th>\n",
       "      <th>Blood Type</th>\n",
       "      <th>Medical Condition</th>\n",
       "      <th>Date of Admission</th>\n",
       "      <th>Doctor</th>\n",
       "      <th>Hospital</th>\n",
       "      <th>Insurance Provider</th>\n",
       "      <th>Billing Amount</th>\n",
       "      <th>Room Number</th>\n",
       "      <th>Admission Type</th>\n",
       "      <th>Discharge Date</th>\n",
       "      <th>Medication</th>\n",
       "      <th>Test Results</th>\n",
       "    </tr>\n",
       "  </thead>\n",
       "  <tbody>\n",
       "    <tr>\n",
       "      <th>0</th>\n",
       "      <td>Tiffany Ramirez</td>\n",
       "      <td>81</td>\n",
       "      <td>Female</td>\n",
       "      <td>O-</td>\n",
       "      <td>Diabetes</td>\n",
       "      <td>2022-11-17</td>\n",
       "      <td>Patrick Parker</td>\n",
       "      <td>Wallace-Hamilton</td>\n",
       "      <td>Medicare</td>\n",
       "      <td>37490.983364</td>\n",
       "      <td>146</td>\n",
       "      <td>Elective</td>\n",
       "      <td>2022-12-01</td>\n",
       "      <td>Aspirin</td>\n",
       "      <td>Inconclusive</td>\n",
       "    </tr>\n",
       "    <tr>\n",
       "      <th>1</th>\n",
       "      <td>Ruben Burns</td>\n",
       "      <td>35</td>\n",
       "      <td>Male</td>\n",
       "      <td>O+</td>\n",
       "      <td>Asthma</td>\n",
       "      <td>2023-06-01</td>\n",
       "      <td>Diane Jackson</td>\n",
       "      <td>Burke, Griffin and Cooper</td>\n",
       "      <td>UnitedHealthcare</td>\n",
       "      <td>47304.064845</td>\n",
       "      <td>404</td>\n",
       "      <td>Emergency</td>\n",
       "      <td>2023-06-15</td>\n",
       "      <td>Lipitor</td>\n",
       "      <td>Normal</td>\n",
       "    </tr>\n",
       "    <tr>\n",
       "      <th>2</th>\n",
       "      <td>Chad Byrd</td>\n",
       "      <td>61</td>\n",
       "      <td>Male</td>\n",
       "      <td>B-</td>\n",
       "      <td>Obesity</td>\n",
       "      <td>2019-01-09</td>\n",
       "      <td>Paul Baker</td>\n",
       "      <td>Walton LLC</td>\n",
       "      <td>Medicare</td>\n",
       "      <td>36874.896997</td>\n",
       "      <td>292</td>\n",
       "      <td>Emergency</td>\n",
       "      <td>2019-02-08</td>\n",
       "      <td>Lipitor</td>\n",
       "      <td>Normal</td>\n",
       "    </tr>\n",
       "    <tr>\n",
       "      <th>3</th>\n",
       "      <td>Antonio Frederick</td>\n",
       "      <td>49</td>\n",
       "      <td>Male</td>\n",
       "      <td>B-</td>\n",
       "      <td>Asthma</td>\n",
       "      <td>2020-05-02</td>\n",
       "      <td>Brian Chandler</td>\n",
       "      <td>Garcia Ltd</td>\n",
       "      <td>Medicare</td>\n",
       "      <td>23303.322092</td>\n",
       "      <td>480</td>\n",
       "      <td>Urgent</td>\n",
       "      <td>2020-05-03</td>\n",
       "      <td>Penicillin</td>\n",
       "      <td>Abnormal</td>\n",
       "    </tr>\n",
       "    <tr>\n",
       "      <th>4</th>\n",
       "      <td>Mrs. Brandy Flowers</td>\n",
       "      <td>51</td>\n",
       "      <td>Male</td>\n",
       "      <td>O-</td>\n",
       "      <td>Arthritis</td>\n",
       "      <td>2021-07-09</td>\n",
       "      <td>Dustin Griffin</td>\n",
       "      <td>Jones, Brown and Murray</td>\n",
       "      <td>UnitedHealthcare</td>\n",
       "      <td>18086.344184</td>\n",
       "      <td>477</td>\n",
       "      <td>Urgent</td>\n",
       "      <td>2021-08-02</td>\n",
       "      <td>Paracetamol</td>\n",
       "      <td>Normal</td>\n",
       "    </tr>\n",
       "    <tr>\n",
       "      <th>5</th>\n",
       "      <td>Patrick Parker</td>\n",
       "      <td>41</td>\n",
       "      <td>Male</td>\n",
       "      <td>AB+</td>\n",
       "      <td>Arthritis</td>\n",
       "      <td>2020-08-20</td>\n",
       "      <td>Robin Green</td>\n",
       "      <td>Boyd PLC</td>\n",
       "      <td>Aetna</td>\n",
       "      <td>22522.363385</td>\n",
       "      <td>180</td>\n",
       "      <td>Urgent</td>\n",
       "      <td>2020-08-23</td>\n",
       "      <td>Aspirin</td>\n",
       "      <td>Abnormal</td>\n",
       "    </tr>\n",
       "    <tr>\n",
       "      <th>6</th>\n",
       "      <td>Charles Horton</td>\n",
       "      <td>82</td>\n",
       "      <td>Male</td>\n",
       "      <td>AB+</td>\n",
       "      <td>Hypertension</td>\n",
       "      <td>2021-03-22</td>\n",
       "      <td>Patricia Bishop</td>\n",
       "      <td>Wheeler, Bryant and Johns</td>\n",
       "      <td>Cigna</td>\n",
       "      <td>39593.435761</td>\n",
       "      <td>161</td>\n",
       "      <td>Urgent</td>\n",
       "      <td>2021-04-15</td>\n",
       "      <td>Lipitor</td>\n",
       "      <td>Abnormal</td>\n",
       "    </tr>\n",
       "    <tr>\n",
       "      <th>7</th>\n",
       "      <td>Patty Norman</td>\n",
       "      <td>55</td>\n",
       "      <td>Female</td>\n",
       "      <td>O-</td>\n",
       "      <td>Arthritis</td>\n",
       "      <td>2019-05-16</td>\n",
       "      <td>Brian Kennedy</td>\n",
       "      <td>Brown Inc</td>\n",
       "      <td>Blue Cross</td>\n",
       "      <td>13546.817249</td>\n",
       "      <td>384</td>\n",
       "      <td>Elective</td>\n",
       "      <td>2019-06-02</td>\n",
       "      <td>Aspirin</td>\n",
       "      <td>Normal</td>\n",
       "    </tr>\n",
       "    <tr>\n",
       "      <th>8</th>\n",
       "      <td>Ryan Hayes</td>\n",
       "      <td>33</td>\n",
       "      <td>Male</td>\n",
       "      <td>A+</td>\n",
       "      <td>Diabetes</td>\n",
       "      <td>2020-12-17</td>\n",
       "      <td>Kristin Dunn</td>\n",
       "      <td>Smith, Edwards and Obrien</td>\n",
       "      <td>Aetna</td>\n",
       "      <td>24903.037270</td>\n",
       "      <td>215</td>\n",
       "      <td>Elective</td>\n",
       "      <td>2020-12-22</td>\n",
       "      <td>Aspirin</td>\n",
       "      <td>Abnormal</td>\n",
       "    </tr>\n",
       "    <tr>\n",
       "      <th>9</th>\n",
       "      <td>Sharon Perez</td>\n",
       "      <td>39</td>\n",
       "      <td>Female</td>\n",
       "      <td>O-</td>\n",
       "      <td>Asthma</td>\n",
       "      <td>2022-12-15</td>\n",
       "      <td>Jessica Bailey</td>\n",
       "      <td>Brown-Golden</td>\n",
       "      <td>Blue Cross</td>\n",
       "      <td>22788.236026</td>\n",
       "      <td>310</td>\n",
       "      <td>Urgent</td>\n",
       "      <td>2022-12-16</td>\n",
       "      <td>Aspirin</td>\n",
       "      <td>Normal</td>\n",
       "    </tr>\n",
       "  </tbody>\n",
       "</table>\n",
       "</div>"
      ],
      "text/plain": [
       "                  Name  Age  Gender Blood Type Medical Condition  \\\n",
       "0      Tiffany Ramirez   81  Female         O-          Diabetes   \n",
       "1          Ruben Burns   35    Male         O+            Asthma   \n",
       "2            Chad Byrd   61    Male         B-           Obesity   \n",
       "3    Antonio Frederick   49    Male         B-            Asthma   \n",
       "4  Mrs. Brandy Flowers   51    Male         O-         Arthritis   \n",
       "5       Patrick Parker   41    Male        AB+         Arthritis   \n",
       "6       Charles Horton   82    Male        AB+      Hypertension   \n",
       "7         Patty Norman   55  Female         O-         Arthritis   \n",
       "8           Ryan Hayes   33    Male         A+          Diabetes   \n",
       "9         Sharon Perez   39  Female         O-            Asthma   \n",
       "\n",
       "  Date of Admission           Doctor                   Hospital  \\\n",
       "0        2022-11-17   Patrick Parker           Wallace-Hamilton   \n",
       "1        2023-06-01    Diane Jackson  Burke, Griffin and Cooper   \n",
       "2        2019-01-09       Paul Baker                 Walton LLC   \n",
       "3        2020-05-02   Brian Chandler                 Garcia Ltd   \n",
       "4        2021-07-09   Dustin Griffin    Jones, Brown and Murray   \n",
       "5        2020-08-20      Robin Green                   Boyd PLC   \n",
       "6        2021-03-22  Patricia Bishop  Wheeler, Bryant and Johns   \n",
       "7        2019-05-16    Brian Kennedy                  Brown Inc   \n",
       "8        2020-12-17     Kristin Dunn  Smith, Edwards and Obrien   \n",
       "9        2022-12-15   Jessica Bailey               Brown-Golden   \n",
       "\n",
       "  Insurance Provider  Billing Amount  Room Number Admission Type  \\\n",
       "0           Medicare    37490.983364          146       Elective   \n",
       "1   UnitedHealthcare    47304.064845          404      Emergency   \n",
       "2           Medicare    36874.896997          292      Emergency   \n",
       "3           Medicare    23303.322092          480         Urgent   \n",
       "4   UnitedHealthcare    18086.344184          477         Urgent   \n",
       "5              Aetna    22522.363385          180         Urgent   \n",
       "6              Cigna    39593.435761          161         Urgent   \n",
       "7         Blue Cross    13546.817249          384       Elective   \n",
       "8              Aetna    24903.037270          215       Elective   \n",
       "9         Blue Cross    22788.236026          310         Urgent   \n",
       "\n",
       "  Discharge Date   Medication  Test Results  \n",
       "0     2022-12-01      Aspirin  Inconclusive  \n",
       "1     2023-06-15      Lipitor        Normal  \n",
       "2     2019-02-08      Lipitor        Normal  \n",
       "3     2020-05-03   Penicillin      Abnormal  \n",
       "4     2021-08-02  Paracetamol        Normal  \n",
       "5     2020-08-23      Aspirin      Abnormal  \n",
       "6     2021-04-15      Lipitor      Abnormal  \n",
       "7     2019-06-02      Aspirin        Normal  \n",
       "8     2020-12-22      Aspirin      Abnormal  \n",
       "9     2022-12-16      Aspirin        Normal  "
      ]
     },
     "execution_count": 7,
     "metadata": {},
     "output_type": "execute_result"
    }
   ],
   "source": [
    "health.head(10)"
   ]
  },
  {
   "cell_type": "code",
   "execution_count": 8,
   "id": "a8e107ec-393b-4556-980f-bcd2971f7c11",
   "metadata": {},
   "outputs": [
    {
     "data": {
      "text/plain": [
       "Name                   9378\n",
       "Age                      68\n",
       "Gender                    2\n",
       "Blood Type                8\n",
       "Medical Condition         6\n",
       "Date of Admission      1815\n",
       "Doctor                 9416\n",
       "Hospital               8639\n",
       "Insurance Provider        5\n",
       "Billing Amount        10000\n",
       "Room Number             400\n",
       "Admission Type            3\n",
       "Discharge Date         1834\n",
       "Medication                5\n",
       "Test Results              3\n",
       "dtype: int64"
      ]
     },
     "execution_count": 8,
     "metadata": {},
     "output_type": "execute_result"
    }
   ],
   "source": [
    "health.nunique()\n",
    "# checking the number of distinct values in all columns"
   ]
  },
  {
   "cell_type": "code",
   "execution_count": 11,
   "id": "9c052f7b-6968-4bf1-a3ae-292e1757f24c",
   "metadata": {},
   "outputs": [
    {
     "data": {
      "text/plain": [
       "622"
      ]
     },
     "execution_count": 11,
     "metadata": {},
     "output_type": "execute_result"
    }
   ],
   "source": [
    "health.duplicated(['Name']).sum()\n"
   ]
  },
  {
   "cell_type": "code",
   "execution_count": 17,
   "id": "f2c3cd92-e3a7-4594-884e-0559b8167320",
   "metadata": {},
   "outputs": [
    {
     "name": "stdout",
     "output_type": "stream",
     "text": [
      "                    Name  Age  Gender Blood Type Medical Condition  \\\n",
      "12    Christina Williams   85  Female         A+          Diabetes   \n",
      "20       William Johnson   55  Female        AB+         Arthritis   \n",
      "23          Angela Brown   33  Female         B-          Diabetes   \n",
      "32         Kevin Johnson   78    Male         O-            Asthma   \n",
      "35    Jennifer Rodriguez   83  Female        AB-            Asthma   \n",
      "...                  ...  ...     ...        ...               ...   \n",
      "9954         David Woods   73    Male         A+           Obesity   \n",
      "9986        Richard Mack   18    Male         B+           Obesity   \n",
      "9988       Julie Johnson   60  Female         A-            Cancer   \n",
      "9992   Gabriel Rodriguez   37    Male         O+      Hypertension   \n",
      "9993       Michael Munoz   39    Male         O-      Hypertension   \n",
      "\n",
      "     Date of Admission             Doctor                     Hospital  \\\n",
      "12          2021-11-29      Laura Roberts   Malone, Thompson and Mejia   \n",
      "20          2023-02-25     Kelly Thompson                  Pearson LLC   \n",
      "23          2019-01-10         Angela Kim                 Lewis-Nelson   \n",
      "32          2021-02-06      Michael Smith    Hernandez, Hunt and Clark   \n",
      "35          2019-11-12    Rachel Sullivan                   Duke Group   \n",
      "...                ...                ...                          ...   \n",
      "9954        2019-04-27         Brian Moss                Hayes-Sanders   \n",
      "9986        2022-03-30  Jennifer Williams        Harris, Fox and Brown   \n",
      "9988        2023-04-10       Lindsay Mack                  Taylor-Pope   \n",
      "9992        2019-01-29          James May  Sutton, Andrews and Johnson   \n",
      "9993        2023-10-09      Stephen Evans                    Moran Ltd   \n",
      "\n",
      "     Insurance Provider  Billing Amount  Room Number Admission Type  \\\n",
      "12                Aetna     4835.945650          444       Elective   \n",
      "20                Aetna    32263.622157          238      Emergency   \n",
      "23     UnitedHealthcare    22331.280156          120         Urgent   \n",
      "32             Medicare     9007.967866          247         Urgent   \n",
      "35                Cigna     5098.663128          192      Emergency   \n",
      "...                 ...             ...          ...            ...   \n",
      "9954   UnitedHealthcare    29534.064379          450         Urgent   \n",
      "9986         Blue Cross    15872.814148          286      Emergency   \n",
      "9988   UnitedHealthcare     6532.309645          255      Emergency   \n",
      "9992   UnitedHealthcare     8296.299322          308         Urgent   \n",
      "9993              Cigna    12379.134624          380         Urgent   \n",
      "\n",
      "     Discharge Date  Medication  Test Results  \n",
      "12       2021-12-14     Aspirin  Inconclusive  \n",
      "20       2023-03-27  Penicillin        Normal  \n",
      "23       2019-01-31     Aspirin      Abnormal  \n",
      "32       2021-03-03     Lipitor      Abnormal  \n",
      "35       2019-11-24     Lipitor      Abnormal  \n",
      "...             ...         ...           ...  \n",
      "9954     2019-05-03     Lipitor      Abnormal  \n",
      "9986     2022-04-03   Ibuprofen      Abnormal  \n",
      "9988     2023-05-02  Penicillin        Normal  \n",
      "9992     2019-02-04  Penicillin        Normal  \n",
      "9993     2023-10-20     Lipitor        Normal  \n",
      "\n",
      "[1144 rows x 15 columns]\n"
     ]
    }
   ],
   "source": [
    "# Assuming 'Name' is the column containing names in your DataFrame\n",
    "duplicated_entries = health[health.duplicated(['Name'], keep=False)]\n",
    "print(duplicated_entries).\n",
    "\n",
    "# checked for duplicates and these are not duplicates.\n",
    "\n",
    "\n"
   ]
  },
  {
   "cell_type": "code",
   "execution_count": 25,
   "id": "d6df5db7-0ab3-48be-a942-cd6d49476d63",
   "metadata": {},
   "outputs": [
    {
     "data": {
      "text/plain": [
       "count    10000.000000\n",
       "mean        51.452200\n",
       "std         19.588974\n",
       "min         18.000000\n",
       "25%         35.000000\n",
       "50%         52.000000\n",
       "75%         68.000000\n",
       "max         85.000000\n",
       "Name: Age, dtype: float64"
      ]
     },
     "execution_count": 25,
     "metadata": {},
     "output_type": "execute_result"
    }
   ],
   "source": [
    "# Q:what is the distribution of age \n",
    "\n",
    "health['Age'].describe()"
   ]
  },
  {
   "cell_type": "code",
   "execution_count": 37,
   "id": "70c4deae-8f46-4830-9b9b-bd796fd3f992",
   "metadata": {},
   "outputs": [
    {
     "data": {
      "image/png": "[encoded data removed]",
      "text/plain": [
       "<Figure size 640x480 with 1 Axes>"
      ]
     },
     "metadata": {},
     "output_type": "display_data"
    }
   ],
   "source": [
    "\n",
    "\n",
    "import matplotlib.pyplot as plt\n",
    "\n",
    "plt.hist(health['Age'], bins=10, color='skyblue', edgecolor='black')\n",
    "\n",
    "plt.xlabel('Age')\n",
    "plt.ylabel('Number of Patients')\n",
    "plt.title('Age Distribution')\n",
    "plt.show()\n"
   ]
  },
  {
   "cell_type": "code",
   "execution_count": 39,
   "id": "c5c944b6-fc8a-432c-99bc-3f5a79211061",
   "metadata": {},
   "outputs": [
    {
     "data": {
      "image/png": "[encoded data removed]",
      "text/plain": [
       "<Figure size 640x480 with 1 Axes>"
      ]
     },
     "metadata": {},
     "output_type": "display_data"
    }
   ],
   "source": [
    "sns.histplot(health['Age'],bins=10)\n",
    "plt.title('Average Age ')\n",
    "plt.show()\n"
   ]
  },
  {
   "cell_type": "code",
   "execution_count": 40,
   "id": "a42ac94d-22e6-4205-bebf-f30d7de80aee",
   "metadata": {},
   "outputs": [
    {
     "data": {
      "image/png": "[encoded data removed]",
      "text/plain": [
       "<Figure size 640x480 with 1 Axes>"
      ]
     },
     "metadata": {},
     "output_type": "display_data"
    }
   ],
   "source": [
    "sns.boxplot(x='Age',data=health)\n",
    "plt.xlabel ('Age')\n",
    "plt.title ('Age Distribution')\n",
    "plt.show()"
   ]
  },
  {
   "cell_type": "code",
   "execution_count": 42,
   "id": "a53652ea-c60b-4e44-ad98-f3ae4d16c779",
   "metadata": {},
   "outputs": [
    {
     "data": {
      "image/png": "[encoded data removed]",
      "text/plain": [
       "<Figure size 640x480 with 1 Axes>"
      ]
     },
     "metadata": {},
     "output_type": "display_data"
    }
   ],
   "source": [
    "sns.kdeplot(health['Age'],fill=True)\n",
    "plt.xlabel('Age')\n",
    "plt.ylabel('Age Distribution')\n",
    "plt.show()"
   ]
  },
  {
   "cell_type": "code",
   "execution_count": null,
   "id": "ec5d14ce-87ca-4d08-b587-6a19a99e6f57",
   "metadata": {},
   "outputs": [],
   "source": []
  },
  {
   "cell_type": "code",
   "execution_count": 45,
   "id": "b7fec02c-48d9-451a-94f5-950a7f5400da",
   "metadata": {},
   "outputs": [
    {
     "data": {
      "text/plain": [
       "array(['Diabetes', 'Asthma', 'Obesity', 'Arthritis', 'Hypertension',\n",
       "       'Cancer'], dtype=object)"
      ]
     },
     "execution_count": 45,
     "metadata": {},
     "output_type": "execute_result"
    }
   ],
   "source": [
    "# Medical Condition Analysis\n",
    "\n",
    "# What medical conditions do patients have and which one is most common according to  gender\n",
    "\n",
    "health['Medical Condition'].unique()"
   ]
  },
  {
   "cell_type": "code",
   "execution_count": 48,
   "id": "204fd00f-984c-495f-9236-f782de353588",
   "metadata": {},
   "outputs": [
    {
     "data": {
      "text/html": [
       "<div>\n",
       "<style scoped>\n",
       "    .dataframe tbody tr th:only-of-type {\n",
       "        vertical-align: middle;\n",
       "    }\n",
       "\n",
       "    .dataframe tbody tr th {\n",
       "        vertical-align: top;\n",
       "    }\n",
       "\n",
       "    .dataframe thead th {\n",
       "        text-align: right;\n",
       "    }\n",
       "</style>\n",
       "<table border=\"1\" class=\"dataframe\">\n",
       "  <thead>\n",
       "    <tr style=\"text-align: right;\">\n",
       "      <th></th>\n",
       "      <th>Name</th>\n",
       "      <th>Gender</th>\n",
       "      <th>Medical Condition</th>\n",
       "    </tr>\n",
       "  </thead>\n",
       "  <tbody>\n",
       "    <tr>\n",
       "      <th>9999</th>\n",
       "      <td>Eric King</td>\n",
       "      <td>Male</td>\n",
       "      <td>Arthritis</td>\n",
       "    </tr>\n",
       "    <tr>\n",
       "      <th>6778</th>\n",
       "      <td>Amanda Bray</td>\n",
       "      <td>Female</td>\n",
       "      <td>Arthritis</td>\n",
       "    </tr>\n",
       "    <tr>\n",
       "      <th>6779</th>\n",
       "      <td>Stephanie Day</td>\n",
       "      <td>Male</td>\n",
       "      <td>Arthritis</td>\n",
       "    </tr>\n",
       "    <tr>\n",
       "      <th>1297</th>\n",
       "      <td>Crystal Patterson</td>\n",
       "      <td>Male</td>\n",
       "      <td>Arthritis</td>\n",
       "    </tr>\n",
       "    <tr>\n",
       "      <th>1296</th>\n",
       "      <td>Bryan Erickson</td>\n",
       "      <td>Male</td>\n",
       "      <td>Arthritis</td>\n",
       "    </tr>\n",
       "    <tr>\n",
       "      <th>...</th>\n",
       "      <td>...</td>\n",
       "      <td>...</td>\n",
       "      <td>...</td>\n",
       "    </tr>\n",
       "    <tr>\n",
       "      <th>2257</th>\n",
       "      <td>Joshua Mclaughlin</td>\n",
       "      <td>Female</td>\n",
       "      <td>Obesity</td>\n",
       "    </tr>\n",
       "    <tr>\n",
       "      <th>5331</th>\n",
       "      <td>Angel Armstrong</td>\n",
       "      <td>Male</td>\n",
       "      <td>Obesity</td>\n",
       "    </tr>\n",
       "    <tr>\n",
       "      <th>491</th>\n",
       "      <td>Teresa Williams</td>\n",
       "      <td>Male</td>\n",
       "      <td>Obesity</td>\n",
       "    </tr>\n",
       "    <tr>\n",
       "      <th>3783</th>\n",
       "      <td>Rachel Thomas</td>\n",
       "      <td>Male</td>\n",
       "      <td>Obesity</td>\n",
       "    </tr>\n",
       "    <tr>\n",
       "      <th>7652</th>\n",
       "      <td>Michael Atkinson</td>\n",
       "      <td>Female</td>\n",
       "      <td>Obesity</td>\n",
       "    </tr>\n",
       "  </tbody>\n",
       "</table>\n",
       "<p>10000 rows × 3 columns</p>\n",
       "</div>"
      ],
      "text/plain": [
       "                   Name  Gender Medical Condition\n",
       "9999          Eric King    Male         Arthritis\n",
       "6778        Amanda Bray  Female         Arthritis\n",
       "6779      Stephanie Day    Male         Arthritis\n",
       "1297  Crystal Patterson    Male         Arthritis\n",
       "1296     Bryan Erickson    Male         Arthritis\n",
       "...                 ...     ...               ...\n",
       "2257  Joshua Mclaughlin  Female           Obesity\n",
       "5331    Angel Armstrong    Male           Obesity\n",
       "491     Teresa Williams    Male           Obesity\n",
       "3783      Rachel Thomas    Male           Obesity\n",
       "7652   Michael Atkinson  Female           Obesity\n",
       "\n",
       "[10000 rows x 3 columns]"
      ]
     },
     "execution_count": 48,
     "metadata": {},
     "output_type": "execute_result"
    }
   ],
   "source": [
    "sort_health =health.sort_values('Medical Condition')\n",
    "sort_health[['Name' , 'Gender', 'Medical Condition']] "
   ]
  },
  {
   "cell_type": "code",
   "execution_count": 52,
   "id": "113985d4-03f0-4ee0-ad54-d7e1dc8f1b37",
   "metadata": {},
   "outputs": [
    {
     "data": {
      "text/plain": [
       "Gender  Medical Condition\n",
       "Female  Cancer               887\n",
       "        Asthma               874\n",
       "        Obesity              838\n",
       "        Hypertension         836\n",
       "        Diabetes             825\n",
       "        Arthritis            815\n",
       "Male    Hypertension         852\n",
       "        Arthritis            835\n",
       "        Asthma               834\n",
       "        Cancer               816\n",
       "        Diabetes             798\n",
       "        Obesity              790\n",
       "Name: count, dtype: int64"
      ]
     },
     "execution_count": 52,
     "metadata": {},
     "output_type": "execute_result"
    }
   ],
   "source": [
    "count_medconditions = health.groupby ('Gender')['Medical Condition'].value_counts()\n",
    "count_medconditions"
   ]
  },
  {
   "cell_type": "code",
   "execution_count": 59,
   "id": "f0edba9c-bf21-42a3-a2c5-7a7532ccf35b",
   "metadata": {},
   "outputs": [
    {
     "data": {
      "image/png": "[encoded data removed]",
      "text/plain": [
       "<Figure size 640x480 with 1 Axes>"
      ]
     },
     "metadata": {},
     "output_type": "display_data"
    }
   ],
   "source": [
    "colors=plt.cm.viridis(np.linspace(0,1,2))\n",
    "health['Medical Condition'].value_counts().plot(kind='bar',color=colors)\n",
    "plt.xticks(rotation=45)\n",
    "plt.title('Prevalence of medical conditions')\n",
    "plt.show()"
   ]
  },
  {
   "cell_type": "code",
   "execution_count": 72,
   "id": "a8706ef1-a6ee-4d4a-9e2d-64b96d595348",
   "metadata": {},
   "outputs": [],
   "source": [
    "# Average length of stay for patients in hospital.\n",
    "# covert the admission and discharge date to datetime and create a new column for length of stay\n",
    "health['Date of Admission']=pd.to_datetime(health['Date of Admission'])\n",
    "health['Discharge Date']=pd.to_datetime(health['Discharge Date'])"
   ]
  },
  {
   "cell_type": "code",
   "execution_count": 79,
   "id": "1467a4a2-061f-463a-8e1e-fd4b97fff30b",
   "metadata": {},
   "outputs": [
    {
     "data": {
      "text/plain": [
       "Timedelta('15 days 13:28:59.520000')"
      ]
     },
     "execution_count": 79,
     "metadata": {},
     "output_type": "execute_result"
    }
   ],
   "source": [
    "health['Length_of_Stay'] =health['Discharge Date'] -health['Date of Admission']\n",
    "\n",
    "  # check if the new column is in the dataframe\n",
    "health\n",
    "\n",
    "\n",
    "# calculate the average length of stay\n",
    "avg_Length_of_Stay=health['Length_of_Stay'].mean()\n",
    "avg_Length_of_Stay"
   ]
  },
  {
   "cell_type": "code",
   "execution_count": 84,
   "id": "7f82706f-6378-48fa-a464-ac81aa29dc09",
   "metadata": {},
   "outputs": [
    {
     "data": {
      "text/plain": [
       "-0.013506705938534168"
      ]
     },
     "execution_count": 84,
     "metadata": {},
     "output_type": "execute_result"
    }
   ],
   "source": [
    "# Is there any correlation between the billing amount and the type of admission or room number?\n",
    "\n",
    "\n",
    "correlation = health['Billing Amount'].corr(health['Length_of_Stay'])\n",
    "correlation"
   ]
  },
  {
   "cell_type": "code",
   "execution_count": null,
   "id": "809032bc-04f1-434b-9a10-bfe06528557d",
   "metadata": {},
   "outputs": [],
   "source": [
    "# it is negative, no relation"
   ]
  },
  {
   "cell_type": "code",
   "execution_count": 89,
   "id": "de9d9512-79c8-4051-b057-751467591470",
   "metadata": {},
   "outputs": [
    {
     "data": {
      "text/plain": [
       "Insurance Provider\n",
       "Cigna               2040\n",
       "Blue Cross          2032\n",
       "Aetna               2025\n",
       "UnitedHealthcare    1978\n",
       "Medicare            1925\n",
       "Name: count, dtype: int64"
      ]
     },
     "execution_count": 89,
     "metadata": {},
     "output_type": "execute_result"
    }
   ],
   "source": [
    "# Which insurance provider is most commonly used by patients?\n",
    "health['Insurance Provider'].value_counts()"
   ]
  },
  {
   "cell_type": "code",
   "execution_count": 97,
   "id": "4a1ce154-1770-47f0-a8e5-cad145219b2f",
   "metadata": {},
   "outputs": [
    {
     "data": {
      "text/plain": [
       "'Michael Johnson'"
      ]
     },
     "execution_count": 97,
     "metadata": {},
     "output_type": "execute_result"
    }
   ],
   "source": [
    "# Which doctor admits the highest number of patients?\n",
    "\n",
    "health['Doctor'].value_counts().idxmax()\n",
    "\n"
   ]
  },
  {
   "cell_type": "code",
   "execution_count": 103,
   "id": "c661ea76-d00e-4888-a9a3-2a0370c1d394",
   "metadata": {},
   "outputs": [
    {
     "data": {
      "text/plain": [
       "Medication\n",
       "Penicillin     2079\n",
       "Lipitor        2015\n",
       "Ibuprofen      1976\n",
       "Aspirin        1968\n",
       "Paracetamol    1962\n",
       "Name: count, dtype: int64"
      ]
     },
     "execution_count": 103,
     "metadata": {},
     "output_type": "execute_result"
    }
   ],
   "source": [
    "# What are the most prescribed medications?\n",
    "health['Medication'].value_counts()"
   ]
  },
  {
   "cell_type": "code",
   "execution_count": 111,
   "id": "f09207fa-ed48-42ba-8272-10d195eef0f5",
   "metadata": {},
   "outputs": [
    {
     "data": {
      "text/html": [
       "<div>\n",
       "<style scoped>\n",
       "    .dataframe tbody tr th:only-of-type {\n",
       "        vertical-align: middle;\n",
       "    }\n",
       "\n",
       "    .dataframe tbody tr th {\n",
       "        vertical-align: top;\n",
       "    }\n",
       "\n",
       "    .dataframe thead th {\n",
       "        text-align: right;\n",
       "    }\n",
       "</style>\n",
       "<table border=\"1\" class=\"dataframe\">\n",
       "  <thead>\n",
       "    <tr style=\"text-align: right;\">\n",
       "      <th></th>\n",
       "      <th>Name</th>\n",
       "      <th>Age</th>\n",
       "      <th>Gender</th>\n",
       "      <th>Blood Type</th>\n",
       "      <th>Medical Condition</th>\n",
       "      <th>Date of Admission</th>\n",
       "      <th>Doctor</th>\n",
       "      <th>Hospital</th>\n",
       "      <th>Insurance Provider</th>\n",
       "      <th>Billing Amount</th>\n",
       "      <th>Room Number</th>\n",
       "      <th>Admission Type</th>\n",
       "      <th>Discharge Date</th>\n",
       "      <th>Medication</th>\n",
       "      <th>Test Results</th>\n",
       "      <th>Length_of_Stay</th>\n",
       "    </tr>\n",
       "  </thead>\n",
       "  <tbody>\n",
       "    <tr>\n",
       "      <th>3</th>\n",
       "      <td>Antonio Frederick</td>\n",
       "      <td>49</td>\n",
       "      <td>Male</td>\n",
       "      <td>B-</td>\n",
       "      <td>Asthma</td>\n",
       "      <td>2020-05-02</td>\n",
       "      <td>Brian Chandler</td>\n",
       "      <td>Garcia Ltd</td>\n",
       "      <td>Medicare</td>\n",
       "      <td>23303.322092</td>\n",
       "      <td>480</td>\n",
       "      <td>Urgent</td>\n",
       "      <td>2020-05-03</td>\n",
       "      <td>Penicillin</td>\n",
       "      <td>Abnormal</td>\n",
       "      <td>1 days</td>\n",
       "    </tr>\n",
       "    <tr>\n",
       "      <th>10</th>\n",
       "      <td>Amy Roberts</td>\n",
       "      <td>45</td>\n",
       "      <td>Male</td>\n",
       "      <td>B-</td>\n",
       "      <td>Cancer</td>\n",
       "      <td>2021-04-13</td>\n",
       "      <td>Anthony Roberts</td>\n",
       "      <td>Little-Spencer</td>\n",
       "      <td>Aetna</td>\n",
       "      <td>40325.071394</td>\n",
       "      <td>306</td>\n",
       "      <td>Emergency</td>\n",
       "      <td>2021-05-11</td>\n",
       "      <td>Penicillin</td>\n",
       "      <td>Abnormal</td>\n",
       "      <td>28 days</td>\n",
       "    </tr>\n",
       "    <tr>\n",
       "      <th>20</th>\n",
       "      <td>William Johnson</td>\n",
       "      <td>55</td>\n",
       "      <td>Female</td>\n",
       "      <td>AB+</td>\n",
       "      <td>Arthritis</td>\n",
       "      <td>2023-02-25</td>\n",
       "      <td>Kelly Thompson</td>\n",
       "      <td>Pearson LLC</td>\n",
       "      <td>Aetna</td>\n",
       "      <td>32263.622157</td>\n",
       "      <td>238</td>\n",
       "      <td>Emergency</td>\n",
       "      <td>2023-03-27</td>\n",
       "      <td>Penicillin</td>\n",
       "      <td>Normal</td>\n",
       "      <td>30 days</td>\n",
       "    </tr>\n",
       "    <tr>\n",
       "      <th>21</th>\n",
       "      <td>Steven Bennett</td>\n",
       "      <td>79</td>\n",
       "      <td>Male</td>\n",
       "      <td>O-</td>\n",
       "      <td>Asthma</td>\n",
       "      <td>2022-12-12</td>\n",
       "      <td>Michael Chang</td>\n",
       "      <td>Schultz-Powers</td>\n",
       "      <td>Blue Cross</td>\n",
       "      <td>42610.704563</td>\n",
       "      <td>364</td>\n",
       "      <td>Urgent</td>\n",
       "      <td>2022-12-26</td>\n",
       "      <td>Penicillin</td>\n",
       "      <td>Abnormal</td>\n",
       "      <td>14 days</td>\n",
       "    </tr>\n",
       "    <tr>\n",
       "      <th>28</th>\n",
       "      <td>Ronnie Hughes</td>\n",
       "      <td>56</td>\n",
       "      <td>Female</td>\n",
       "      <td>A-</td>\n",
       "      <td>Cancer</td>\n",
       "      <td>2019-05-14</td>\n",
       "      <td>Nicole Mcclain</td>\n",
       "      <td>Hawkins Ltd</td>\n",
       "      <td>Aetna</td>\n",
       "      <td>12935.413250</td>\n",
       "      <td>392</td>\n",
       "      <td>Elective</td>\n",
       "      <td>2019-06-11</td>\n",
       "      <td>Penicillin</td>\n",
       "      <td>Abnormal</td>\n",
       "      <td>28 days</td>\n",
       "    </tr>\n",
       "    <tr>\n",
       "      <th>...</th>\n",
       "      <td>...</td>\n",
       "      <td>...</td>\n",
       "      <td>...</td>\n",
       "      <td>...</td>\n",
       "      <td>...</td>\n",
       "      <td>...</td>\n",
       "      <td>...</td>\n",
       "      <td>...</td>\n",
       "      <td>...</td>\n",
       "      <td>...</td>\n",
       "      <td>...</td>\n",
       "      <td>...</td>\n",
       "      <td>...</td>\n",
       "      <td>...</td>\n",
       "      <td>...</td>\n",
       "      <td>...</td>\n",
       "    </tr>\n",
       "    <tr>\n",
       "      <th>9988</th>\n",
       "      <td>Julie Johnson</td>\n",
       "      <td>60</td>\n",
       "      <td>Female</td>\n",
       "      <td>A-</td>\n",
       "      <td>Cancer</td>\n",
       "      <td>2023-04-10</td>\n",
       "      <td>Lindsay Mack</td>\n",
       "      <td>Taylor-Pope</td>\n",
       "      <td>UnitedHealthcare</td>\n",
       "      <td>6532.309645</td>\n",
       "      <td>255</td>\n",
       "      <td>Emergency</td>\n",
       "      <td>2023-05-02</td>\n",
       "      <td>Penicillin</td>\n",
       "      <td>Normal</td>\n",
       "      <td>22 days</td>\n",
       "    </tr>\n",
       "    <tr>\n",
       "      <th>9992</th>\n",
       "      <td>Gabriel Rodriguez</td>\n",
       "      <td>37</td>\n",
       "      <td>Male</td>\n",
       "      <td>O+</td>\n",
       "      <td>Hypertension</td>\n",
       "      <td>2019-01-29</td>\n",
       "      <td>James May</td>\n",
       "      <td>Sutton, Andrews and Johnson</td>\n",
       "      <td>UnitedHealthcare</td>\n",
       "      <td>8296.299322</td>\n",
       "      <td>308</td>\n",
       "      <td>Urgent</td>\n",
       "      <td>2019-02-04</td>\n",
       "      <td>Penicillin</td>\n",
       "      <td>Normal</td>\n",
       "      <td>6 days</td>\n",
       "    </tr>\n",
       "    <tr>\n",
       "      <th>9994</th>\n",
       "      <td>Jorge Obrien</td>\n",
       "      <td>69</td>\n",
       "      <td>Male</td>\n",
       "      <td>A+</td>\n",
       "      <td>Diabetes</td>\n",
       "      <td>2021-12-25</td>\n",
       "      <td>Frank Miller</td>\n",
       "      <td>Scott LLC</td>\n",
       "      <td>UnitedHealthcare</td>\n",
       "      <td>16793.598395</td>\n",
       "      <td>341</td>\n",
       "      <td>Elective</td>\n",
       "      <td>2022-01-06</td>\n",
       "      <td>Penicillin</td>\n",
       "      <td>Inconclusive</td>\n",
       "      <td>12 days</td>\n",
       "    </tr>\n",
       "    <tr>\n",
       "      <th>9998</th>\n",
       "      <td>Amanda Duke</td>\n",
       "      <td>84</td>\n",
       "      <td>Male</td>\n",
       "      <td>A+</td>\n",
       "      <td>Arthritis</td>\n",
       "      <td>2020-02-06</td>\n",
       "      <td>Jamie Lewis</td>\n",
       "      <td>Wilson-Lyons</td>\n",
       "      <td>UnitedHealthcare</td>\n",
       "      <td>25236.344761</td>\n",
       "      <td>420</td>\n",
       "      <td>Urgent</td>\n",
       "      <td>2020-02-26</td>\n",
       "      <td>Penicillin</td>\n",
       "      <td>Normal</td>\n",
       "      <td>20 days</td>\n",
       "    </tr>\n",
       "    <tr>\n",
       "      <th>9999</th>\n",
       "      <td>Eric King</td>\n",
       "      <td>20</td>\n",
       "      <td>Male</td>\n",
       "      <td>B-</td>\n",
       "      <td>Arthritis</td>\n",
       "      <td>2023-03-22</td>\n",
       "      <td>Tasha Avila</td>\n",
       "      <td>Torres, Young and Stewart</td>\n",
       "      <td>Aetna</td>\n",
       "      <td>37223.965865</td>\n",
       "      <td>290</td>\n",
       "      <td>Emergency</td>\n",
       "      <td>2023-04-15</td>\n",
       "      <td>Penicillin</td>\n",
       "      <td>Abnormal</td>\n",
       "      <td>24 days</td>\n",
       "    </tr>\n",
       "  </tbody>\n",
       "</table>\n",
       "<p>2079 rows × 16 columns</p>\n",
       "</div>"
      ],
      "text/plain": [
       "                   Name  Age  Gender Blood Type Medical Condition  \\\n",
       "3     Antonio Frederick   49    Male         B-            Asthma   \n",
       "10          Amy Roberts   45    Male         B-            Cancer   \n",
       "20      William Johnson   55  Female        AB+         Arthritis   \n",
       "21       Steven Bennett   79    Male         O-            Asthma   \n",
       "28        Ronnie Hughes   56  Female         A-            Cancer   \n",
       "...                 ...  ...     ...        ...               ...   \n",
       "9988      Julie Johnson   60  Female         A-            Cancer   \n",
       "9992  Gabriel Rodriguez   37    Male         O+      Hypertension   \n",
       "9994       Jorge Obrien   69    Male         A+          Diabetes   \n",
       "9998        Amanda Duke   84    Male         A+         Arthritis   \n",
       "9999          Eric King   20    Male         B-         Arthritis   \n",
       "\n",
       "     Date of Admission           Doctor                     Hospital  \\\n",
       "3           2020-05-02   Brian Chandler                   Garcia Ltd   \n",
       "10          2021-04-13  Anthony Roberts               Little-Spencer   \n",
       "20          2023-02-25   Kelly Thompson                  Pearson LLC   \n",
       "21          2022-12-12    Michael Chang               Schultz-Powers   \n",
       "28          2019-05-14   Nicole Mcclain                  Hawkins Ltd   \n",
       "...                ...              ...                          ...   \n",
       "9988        2023-04-10     Lindsay Mack                  Taylor-Pope   \n",
       "9992        2019-01-29        James May  Sutton, Andrews and Johnson   \n",
       "9994        2021-12-25     Frank Miller                    Scott LLC   \n",
       "9998        2020-02-06      Jamie Lewis                 Wilson-Lyons   \n",
       "9999        2023-03-22      Tasha Avila    Torres, Young and Stewart   \n",
       "\n",
       "     Insurance Provider  Billing Amount  Room Number Admission Type  \\\n",
       "3              Medicare    23303.322092          480         Urgent   \n",
       "10                Aetna    40325.071394          306      Emergency   \n",
       "20                Aetna    32263.622157          238      Emergency   \n",
       "21           Blue Cross    42610.704563          364         Urgent   \n",
       "28                Aetna    12935.413250          392       Elective   \n",
       "...                 ...             ...          ...            ...   \n",
       "9988   UnitedHealthcare     6532.309645          255      Emergency   \n",
       "9992   UnitedHealthcare     8296.299322          308         Urgent   \n",
       "9994   UnitedHealthcare    16793.598395          341       Elective   \n",
       "9998   UnitedHealthcare    25236.344761          420         Urgent   \n",
       "9999              Aetna    37223.965865          290      Emergency   \n",
       "\n",
       "     Discharge Date  Medication  Test Results Length_of_Stay  \n",
       "3        2020-05-03  Penicillin      Abnormal         1 days  \n",
       "10       2021-05-11  Penicillin      Abnormal        28 days  \n",
       "20       2023-03-27  Penicillin        Normal        30 days  \n",
       "21       2022-12-26  Penicillin      Abnormal        14 days  \n",
       "28       2019-06-11  Penicillin      Abnormal        28 days  \n",
       "...             ...         ...           ...            ...  \n",
       "9988     2023-05-02  Penicillin        Normal        22 days  \n",
       "9992     2019-02-04  Penicillin        Normal         6 days  \n",
       "9994     2022-01-06  Penicillin  Inconclusive        12 days  \n",
       "9998     2020-02-26  Penicillin        Normal        20 days  \n",
       "9999     2023-04-15  Penicillin      Abnormal        24 days  \n",
       "\n",
       "[2079 rows x 16 columns]"
      ]
     },
     "execution_count": 111,
     "metadata": {},
     "output_type": "execute_result"
    }
   ],
   "source": [
    "# For what medical conditions was Penicillin prescribe\n",
    "medication1 = health[health['Medication'].str.contains('Penicillin')]\n",
    "\n",
    "medication1"
   ]
  }
 ],
 "metadata": {
  "kernelspec": {
   "display_name": "Python 3 (ipykernel)",
   "language": "python",
   "name": "python3"
  },
  "language_info": {
   "codemirror_mode": {
    "name": "ipython",
    "version": 3
   },
   "file_extension": ".py",
   "mimetype": "text/x-python",
   "name": "python",
   "nbconvert_exporter": "python",
   "pygments_lexer": "ipython3",
   "version": "3.12.2"
  }
 },
 "nbformat": 4,
 "nbformat_minor": 5
}
